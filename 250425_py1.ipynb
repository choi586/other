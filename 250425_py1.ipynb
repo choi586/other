{
  "nbformat": 4,
  "nbformat_minor": 0,
  "metadata": {
    "colab": {
      "provenance": []
    },
    "kernelspec": {
      "name": "python3",
      "display_name": "Python 3"
    },
    "language_info": {
      "name": "python"
    }
  },
  "cells": [
    {
      "cell_type": "markdown",
      "source": [
        "# import 문 – 라이브러리 가져오기\n",
        "\n",
        "\n",
        "\n",
        "*   다른 사람이 만들어 놓은 코드 묶음(도구)를 불러오는 것\n",
        "*   그래프, 데이터 분석, 웹 등 다양하게 사용\n",
        "*   as 뒤는 별명"
      ],
      "metadata": {
        "id": "AsbNAp-8Gm5h"
      }
    },
    {
      "cell_type": "code",
      "source": [
        "import sympy as sp #수학 기호 계산을 도와주는 라이브러리\n",
        "import matplotlib.pyplot as plt #그래프를 그려주는 라이브러리\n",
        "import numpy as np #수치 계산을 도와주는 라이브러리\n",
        "import pandas as pd #데이터 분석을 도와주는 라이브러리"
      ],
      "metadata": {
        "id": "kc0z-FRqGlgY"
      },
      "execution_count": null,
      "outputs": []
    },
    {
      "cell_type": "code",
      "source": [
        "!pip install koreanize_matplotlib # matplotlib에서 한글이 깨지지 않도록 폰트 설정하는 라이브러리\n",
        "import koreanize_matplotlib"
      ],
      "metadata": {
        "id": "2kAJKirOGyFR"
      },
      "execution_count": null,
      "outputs": []
    },
    {
      "cell_type": "markdown",
      "source": [
        "# 1. 출력하기 - print()\n",
        "\n",
        "\n",
        "*  글자를 화면에 보여줌\n",
        "*  따옴표는 문자열을 의미\n",
        "\n"
      ],
      "metadata": {
        "id": "4YTWWHhltyun"
      }
    },
    {
      "cell_type": "code",
      "execution_count": null,
      "metadata": {
        "colab": {
          "base_uri": "https://localhost:8080/"
        },
        "id": "W9K1KVAPmrrK",
        "outputId": "35f174ef-a026-44a3-c150-33cdc647247f"
      },
      "outputs": [
        {
          "output_type": "stream",
          "name": "stdout",
          "text": [
            "안녕\n"
          ]
        }
      ],
      "source": [
        "#출력하기\n",
        "\n",
        "print(\"안녕\")\n"
      ]
    },
    {
      "cell_type": "code",
      "source": [
        "print(10)"
      ],
      "metadata": {
        "colab": {
          "base_uri": "https://localhost:8080/"
        },
        "id": "wUykORD2-eXI",
        "outputId": "900f22e1-b2a5-4568-c27d-6c31629fc467"
      },
      "execution_count": null,
      "outputs": [
        {
          "output_type": "stream",
          "name": "stdout",
          "text": [
            "10\n"
          ]
        }
      ]
    },
    {
      "cell_type": "markdown",
      "source": [
        "# 2. 변수 만들기 - 값 저장\n",
        "\n",
        "\n",
        "*   = 는 값을 저장한다는 뜻\n",
        "*   name, age 등 변수 이름은 마음대로 정할 수 있음<br><br>\n",
        "\n",
        "score = 90         ✅<br>\n",
        "score1 = 85        ✅<br>\n",
        "_score = 100       ✅<br>\n",
        "1score = 90        ❌ 오류 (숫자로 시작)<br>\n",
        "total-score = 80   ❌ 오류 (-는 연산자로 인식됨)<br>\n"
      ],
      "metadata": {
        "id": "aK1MrlKNuM79"
      }
    },
    {
      "cell_type": "code",
      "source": [
        "name = '서준'\n",
        "print(name)"
      ],
      "metadata": {
        "colab": {
          "base_uri": "https://localhost:8080/"
        },
        "id": "o4OewC4xuL3-",
        "outputId": "030ddf76-abbb-4e32-e85a-893155d75edf"
      },
      "execution_count": null,
      "outputs": [
        {
          "output_type": "stream",
          "name": "stdout",
          "text": [
            "서준\n"
          ]
        }
      ]
    },
    {
      "cell_type": "code",
      "source": [
        "age = 17\n",
        "print(age)"
      ],
      "metadata": {
        "colab": {
          "base_uri": "https://localhost:8080/"
        },
        "id": "gjOORuIUtoxl",
        "outputId": "ef81e870-890c-4955-a929-86b2b697985b"
      },
      "execution_count": null,
      "outputs": [
        {
          "output_type": "stream",
          "name": "stdout",
          "text": [
            "17\n"
          ]
        }
      ]
    },
    {
      "cell_type": "markdown",
      "source": [
        "# 3. 자료형 (데이터의 종류)\n",
        "\n",
        "\n",
        "\n",
        "*   자료형에 따라 다르게 다룸\n",
        "\n",
        "\n",
        "\n"
      ],
      "metadata": {
        "id": "KvsEA1IWUdGI"
      }
    },
    {
      "cell_type": "code",
      "source": [
        "a = 10          #정수(int)\n",
        "b = 3.14        #실수(float)\n",
        "c = \"hello\"     #문자열(str)\n",
        "d = True        #불리언(bool)\n",
        "print(type(a))\n",
        "print(type(b))\n",
        "print(type(c))\n",
        "print(type(d))"
      ],
      "metadata": {
        "colab": {
          "base_uri": "https://localhost:8080/"
        },
        "id": "P56FYhdvnOlu",
        "outputId": "9a6d64f7-8388-4acd-8b4c-834837f30110"
      },
      "execution_count": null,
      "outputs": [
        {
          "output_type": "stream",
          "name": "stdout",
          "text": [
            "<class 'int'>\n",
            "<class 'float'>\n",
            "<class 'str'>\n",
            "<class 'bool'>\n"
          ]
        }
      ]
    },
    {
      "cell_type": "markdown",
      "source": [
        "# 문자열 포맷(f-string)\n",
        "\n",
        "\n",
        "*   문자열 안에 {}로 변수값을 넣는 방법\n",
        "*   f\"...\" 형태로 사용\n",
        "\n"
      ],
      "metadata": {
        "id": "nrIDMo3XBohw"
      }
    },
    {
      "cell_type": "code",
      "source": [
        "name = \"영희\"\n",
        "print(f\"{name}님, 안녕하세요!\")"
      ],
      "metadata": {
        "colab": {
          "base_uri": "https://localhost:8080/"
        },
        "id": "cEaaxJUuBnph",
        "outputId": "87ddb0b8-7c8b-41e9-deae-40c1703358b7"
      },
      "execution_count": null,
      "outputs": [
        {
          "output_type": "stream",
          "name": "stdout",
          "text": [
            "영희님, 안녕하세요!\n"
          ]
        }
      ]
    },
    {
      "cell_type": "code",
      "source": [
        "age = 17\n",
        "print(f\"{name}는 {age}살 입니다.\")"
      ],
      "metadata": {
        "colab": {
          "base_uri": "https://localhost:8080/"
        },
        "id": "fa1ULh2gBzPe",
        "outputId": "211ad78c-ec38-4aa0-d4a5-c05a33296e0d"
      },
      "execution_count": null,
      "outputs": [
        {
          "output_type": "stream",
          "name": "stdout",
          "text": [
            "영희는 17살 입니다.\n"
          ]
        }
      ]
    },
    {
      "cell_type": "markdown",
      "source": [
        "# 4. 입력받기 - input()\n",
        "\n",
        "\n",
        "*   사용자가 직접 값을 입력함\n",
        "*   결과는 항상 \"문자열(str)\"로 들어옴\n",
        "\n"
      ],
      "metadata": {
        "id": "oYGwcIDtV9RA"
      }
    },
    {
      "cell_type": "code",
      "source": [
        "name = input(\"이름을 입력하세요: \")\n",
        "print(name)"
      ],
      "metadata": {
        "colab": {
          "base_uri": "https://localhost:8080/"
        },
        "id": "m5tGp8TAV8YS",
        "outputId": "e5570c76-31bd-4ced-b591-5047a921e0db"
      },
      "execution_count": null,
      "outputs": [
        {
          "output_type": "stream",
          "name": "stdout",
          "text": [
            "이름을 입력하세요: 영희\n",
            "영희\n"
          ]
        }
      ]
    },
    {
      "cell_type": "code",
      "source": [
        "name = input(\"이름을 입력하세요: \")\n",
        "print(f\"{name}님, 안녕하세요!\")"
      ],
      "metadata": {
        "colab": {
          "base_uri": "https://localhost:8080/"
        },
        "id": "-Zay-RoHCc3_",
        "outputId": "f0ad7ada-65e3-4817-9bc6-f6b1d5fcad20"
      },
      "execution_count": null,
      "outputs": [
        {
          "output_type": "stream",
          "name": "stdout",
          "text": [
            "이름을 입력하세요: 나리\n",
            "나리님, 안녕하세요!\n"
          ]
        }
      ]
    },
    {
      "cell_type": "markdown",
      "source": [
        "# 5. 형 변환 – int(), float(), str()\n",
        "\n",
        "\n",
        "*   input()으로 받은 값은 문자 → 숫자로 바꾸려면 int() 필요\n",
        "\n",
        "\n"
      ],
      "metadata": {
        "id": "SF_8peF2WYmx"
      }
    },
    {
      "cell_type": "code",
      "source": [
        "age = input(\"나이를 입력하세요: \")\n",
        "print(age)\n",
        "print(type(age))"
      ],
      "metadata": {
        "colab": {
          "base_uri": "https://localhost:8080/"
        },
        "id": "jYDbM2lJV8bE",
        "outputId": "65ec4852-2b4b-46f5-a428-47792e636149"
      },
      "execution_count": null,
      "outputs": [
        {
          "output_type": "stream",
          "name": "stdout",
          "text": [
            "나이를 입력하세요: 17\n",
            "17\n",
            "<class 'str'>\n"
          ]
        }
      ]
    },
    {
      "cell_type": "code",
      "source": [
        "age = int(input(\"나이를 입력하세요: \"))\n",
        "print(age)\n",
        "print(type(age))"
      ],
      "metadata": {
        "colab": {
          "base_uri": "https://localhost:8080/"
        },
        "id": "D5T196IjV8dr",
        "outputId": "c9e212b7-21f4-4174-9fed-0595559af1ed"
      },
      "execution_count": null,
      "outputs": [
        {
          "output_type": "stream",
          "name": "stdout",
          "text": [
            "나이를 입력하세요: 17\n",
            "17\n",
            "<class 'int'>\n"
          ]
        }
      ]
    },
    {
      "cell_type": "code",
      "source": [
        "age1 = input(\"나이를 입력하세요: \")\n",
        "age2 = input(\"나이를 입력하세요: \")\n",
        "print(age1 + age2)"
      ],
      "metadata": {
        "colab": {
          "base_uri": "https://localhost:8080/"
        },
        "id": "BsKHptdiV8gR",
        "outputId": "2e256712-faf4-49d5-8f6a-43a80bcd13d5"
      },
      "execution_count": null,
      "outputs": [
        {
          "output_type": "stream",
          "name": "stdout",
          "text": [
            "나이를 입력하세요: 17\n",
            "나이를 입력하세요: 18\n",
            "1718\n"
          ]
        }
      ]
    },
    {
      "cell_type": "code",
      "source": [
        "age1 = int(input(\"나이를 입력하세요: \"))\n",
        "age2 = int(input(\"나이를 입력하세요: \"))\n",
        "print(age1 + age2)"
      ],
      "metadata": {
        "colab": {
          "base_uri": "https://localhost:8080/"
        },
        "id": "euthgmY1V8jZ",
        "outputId": "766198b1-54ab-4a3d-9c65-35f1712b1c29"
      },
      "execution_count": null,
      "outputs": [
        {
          "output_type": "stream",
          "name": "stdout",
          "text": [
            "나이를 입력하세요: 17\n",
            "나이를 입력하세요: 18\n",
            "35\n"
          ]
        }
      ]
    },
    {
      "cell_type": "markdown",
      "source": [
        "# 6. 연산자 – 계산하기"
      ],
      "metadata": {
        "id": "X3UYfaM3XPB8"
      }
    },
    {
      "cell_type": "code",
      "source": [
        "a = 10\n",
        "b = 3\n",
        "print(a + b)   # 더하기\n",
        "print(a - b)   # 빼기\n",
        "print(a * b)   # 곱하기\n",
        "print(a / b)   # 나누기 (실수)\n",
        "print(a // b)  # 나누기 (정수)\n",
        "print(a % b)   # 나머지\n",
        "print(a ** b)  # 거듭제곱\n"
      ],
      "metadata": {
        "colab": {
          "base_uri": "https://localhost:8080/"
        },
        "id": "-9yaS9iUnPOT",
        "outputId": "e599fb96-ad50-4441-e9ee-93012a0d052c"
      },
      "execution_count": null,
      "outputs": [
        {
          "output_type": "stream",
          "name": "stdout",
          "text": [
            "13\n",
            "7\n",
            "30\n",
            "3.3333333333333335\n",
            "3\n",
            "1\n",
            "1000\n"
          ]
        }
      ]
    },
    {
      "cell_type": "markdown",
      "source": [
        "# 연습\n",
        "\n",
        "\n",
        "*   달러 -> 원화 변환기\n",
        "\n",
        "\n",
        "\n",
        "\n"
      ],
      "metadata": {
        "id": "yPvptWHdF3xn"
      }
    },
    {
      "cell_type": "code",
      "source": [
        "# 환율 변수 설정하기\n",
        "rate = 1424.20\n",
        "\n",
        "# 금액 float로 입력 받기\n",
        "usd = float(input(\"달러를 입력하세요: \"))\n",
        "\n",
        "# 계산\n",
        "won = usd * rate\n",
        "\n",
        "# 출력\n",
        "print(f\"{usd}달러는 {won}원 입니다.\")"
      ],
      "metadata": {
        "colab": {
          "base_uri": "https://localhost:8080/"
        },
        "id": "Iu20jk_DF9AL",
        "outputId": "8357698a-2746-4df4-e7b6-7f934b467fd5"
      },
      "execution_count": 9,
      "outputs": [
        {
          "output_type": "stream",
          "name": "stdout",
          "text": [
            "달러를 입력하세요: 17\n",
            "17.0달러는 24211.4원 입니다.\n"
          ]
        }
      ]
    },
    {
      "cell_type": "markdown",
      "source": [
        "# 연습\n",
        "\n",
        "*  수식 $x^3 - 2x + 1$ 를 변수 $y$ 에 저장하고 변수 $y$  를 프린트 하세요.\n",
        "\n",
        "\n"
      ],
      "metadata": {
        "id": "VJQaJdtWFKCn"
      }
    },
    {
      "cell_type": "code",
      "source": [
        "x = sp.Symbol('x') # 수학기호로서의 'x'로 만들기\n",
        "\n",
        "y = x**3-2*x+1\n",
        "\n",
        "print(y)"
      ],
      "metadata": {
        "colab": {
          "base_uri": "https://localhost:8080/"
        },
        "id": "vnjKWZaYFJih",
        "outputId": "b2782e6a-8422-420d-e24c-e7d2ed589dd3"
      },
      "execution_count": 8,
      "outputs": [
        {
          "output_type": "stream",
          "name": "stdout",
          "text": [
            "x**3 - 2*x + 1\n"
          ]
        }
      ]
    },
    {
      "cell_type": "code",
      "source": [
        "sp.init_printing()  # 수식 예쁘게 출력 준비\n",
        "display(y)"
      ],
      "metadata": {
        "colab": {
          "base_uri": "https://localhost:8080/",
          "height": 38
        },
        "id": "2d-45XIOIz_i",
        "outputId": "1bf4666e-59e9-40a2-d9d1-7e6d48faac4e"
      },
      "execution_count": 7,
      "outputs": [
        {
          "output_type": "display_data",
          "data": {
            "text/plain": [
              " 3          \n",
              "x  - 2⋅x + 1"
            ],
            "text/latex": "$\\displaystyle x^{3} - 2 x + 1$"
          },
          "metadata": {}
        }
      ]
    },
    {
      "cell_type": "markdown",
      "source": [
        "# 7. 조건문 – if, else\n",
        "\n",
        "\n",
        "*   조건에 따라 다른 결과를 출력함\n",
        "*   : 콜론 뒤는 반드시 들여쓰기로 구분!\n",
        "\n"
      ],
      "metadata": {
        "id": "d5J8vV2Eat3f"
      }
    },
    {
      "cell_type": "code",
      "source": [
        "score = 85\n",
        "if score >= 90:\n",
        "    print(\"A학점\")\n",
        "else:\n",
        "    print(\"B학점\")"
      ],
      "metadata": {
        "colab": {
          "base_uri": "https://localhost:8080/"
        },
        "id": "6QNZsejDE6C2",
        "outputId": "44126e19-a8a2-444c-a496-6798272aafb6"
      },
      "execution_count": null,
      "outputs": [
        {
          "output_type": "stream",
          "name": "stdout",
          "text": [
            "B학점\n"
          ]
        }
      ]
    },
    {
      "cell_type": "code",
      "source": [
        "score = 65\n",
        "if score >= 90:\n",
        "    print(\"A학점\")\n",
        "elif score >= 80:\n",
        "    print(\"B학점\")\n",
        "else:\n",
        "    print(\"C학점\")\n"
      ],
      "metadata": {
        "colab": {
          "base_uri": "https://localhost:8080/"
        },
        "id": "8aEUK1O0asU3",
        "outputId": "02a5dbc9-ab1a-479c-b572-23c29b0a7652"
      },
      "execution_count": null,
      "outputs": [
        {
          "output_type": "stream",
          "name": "stdout",
          "text": [
            "C학점\n"
          ]
        }
      ]
    },
    {
      "cell_type": "code",
      "source": [
        "# 점수를 사용자로부터 입력받음\n",
        "score = float(input(\"점수를 입력하세요: \"))\n",
        "\n",
        "# 조건문으로 학점 출력\n",
        "if score >= 90:\n",
        "    print(\"A학점\")\n",
        "elif score >= 80:\n",
        "    print(\"B학점\")\n",
        "else:\n",
        "    print(\"C학점\")"
      ],
      "metadata": {
        "colab": {
          "base_uri": "https://localhost:8080/"
        },
        "id": "EGhYdw8uGzpl",
        "outputId": "ba219cbd-1647-47b3-88fe-bb026b363c16"
      },
      "execution_count": null,
      "outputs": [
        {
          "output_type": "stream",
          "name": "stdout",
          "text": [
            "점수를 입력하세요: 85.5\n",
            "B학점\n"
          ]
        }
      ]
    },
    {
      "cell_type": "markdown",
      "source": [
        "# 8. 리스트\n",
        "\n",
        "*   여러 값을 순서대로 저장하는 자료형\n",
        "*   값에 접근할 때는 colors[0]처럼 인덱스 사용\n",
        "\n",
        "\n",
        "\n",
        "\n",
        "\n",
        "\n"
      ],
      "metadata": {
        "id": "lDeAzqZSDKsz"
      }
    },
    {
      "cell_type": "code",
      "source": [
        "# 리스트\n",
        "\n",
        "colors = [\"빨강\", \"초록\", \"파랑\"]\n",
        "print(colors)"
      ],
      "metadata": {
        "colab": {
          "base_uri": "https://localhost:8080/"
        },
        "id": "kalo0eWFDKN-",
        "outputId": "50ab34e8-604a-468a-a59e-50743cb82c80"
      },
      "execution_count": null,
      "outputs": [
        {
          "output_type": "stream",
          "name": "stdout",
          "text": [
            "['빨강', '초록', '파랑']\n"
          ]
        }
      ]
    },
    {
      "cell_type": "code",
      "source": [
        "print(colors[0])"
      ],
      "metadata": {
        "colab": {
          "base_uri": "https://localhost:8080/"
        },
        "id": "nTByoTqDDSRn",
        "outputId": "2c410192-2fae-4fcc-e103-e4ab9cac9d4a"
      },
      "execution_count": null,
      "outputs": [
        {
          "output_type": "stream",
          "name": "stdout",
          "text": [
            "빨강\n"
          ]
        }
      ]
    },
    {
      "cell_type": "markdown",
      "source": [
        "# 9. 딕셔너리\n",
        "\n",
        "\n",
        "*   이름:값 형태로 저장 {Key:Value}\n",
        "*   값에 접근할 땐 student[\"이름\"]\n",
        "\n"
      ],
      "metadata": {
        "id": "YpJ86oB9DuKl"
      }
    },
    {
      "cell_type": "code",
      "source": [
        "student = {\"이름\": \"민수\", \"점수\": 95}\n",
        "print(student)\n",
        "print(student[\"이름\"])"
      ],
      "metadata": {
        "colab": {
          "base_uri": "https://localhost:8080/"
        },
        "id": "8JWQrS3yDudH",
        "outputId": "9891dab6-2ef1-4ddd-b2d5-e936a9f809ed"
      },
      "execution_count": null,
      "outputs": [
        {
          "output_type": "stream",
          "name": "stdout",
          "text": [
            "{'이름': '민수', '점수': 95}\n",
            "민수\n"
          ]
        }
      ]
    },
    {
      "cell_type": "code",
      "source": [],
      "metadata": {
        "id": "V74hdXvbEJ4O"
      },
      "execution_count": null,
      "outputs": []
    }
  ]
}
